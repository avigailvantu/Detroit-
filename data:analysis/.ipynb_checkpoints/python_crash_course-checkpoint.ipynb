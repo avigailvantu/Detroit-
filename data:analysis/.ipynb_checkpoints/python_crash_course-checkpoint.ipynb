{
 "cells": [
  {
   "cell_type": "markdown",
   "metadata": {},
   "source": [
    "# Python & Jupyter Notebooks"
   ]
  },
  {
   "cell_type": "markdown",
   "metadata": {},
   "source": [
    "## Jupyter what?!"
   ]
  },
  {
   "cell_type": "markdown",
   "metadata": {},
   "source": [
    "Jupyter Notebooks is a popular interactive coding web application used by data scientists and programmers. If you're reading this, you're currently inside an Jupyter Notebook file. Notebook files consist of cells. You can navigate from cell to cell using the up and down arrow keys. Give it a try!"
   ]
  },
  {
   "cell_type": "markdown",
   "metadata": {},
   "source": [
    "## What do I mean when I say *interactive coding tool*?"
   ]
  },
  {
   "cell_type": "markdown",
   "metadata": {},
   "source": [
    "Most computer programs are static in nature. They generally consist of a set of predefined steps which are stored in a text file on a computer. As needed, the contents of the file are fed to the **interpreter** -- the program which turns code into computer instructions (more on this later) -- and are executed as a unit. Here's an example of what a typical Python file looks like:\n",
    "\n",
    "```\n",
    "# my_program.py\n",
    "\n",
    "x = \"Hello, World!\"\n",
    "print(x)\n",
    "```\n",
    "\n",
    "The above program consists of three steps. The first line `# my_program.py` is what's called a <strong>*comment*</strong>. In Python, any line prefaced with a `#` is a comment and is ignored. In other words, the first line is the name of the file. It is purely stylistic and has no effect on the behavior of the program itself.\n",
    "\n",
    "The next step, `x = \"Hello, World!\"`, is a bit more interesting. In this case, the program is instructing the computer to create a reference, `x`, to some chunk of memory and to store inside that chunk of memory the **string** \"Hello, World!\".\n",
    "\n",
    "Finally, the last step, `print(x)`, instructs the computer to <strong>*invoke*</strong> (or call) a **function** called `print` with an **argument** (or input) of `x`. `print` is another program built-in to python that accepts an input and prints it to the screen.\n",
    "\n",
    "The cell below is meant to demonstrate how this program would run. Give it a try!"
   ]
  },
  {
   "cell_type": "code",
   "execution_count": null,
   "metadata": {},
   "outputs": [],
   "source": [
    "# run me by pressing shift + enter\n",
    "\n",
    "x = \"Hello, World!\"\n",
    "print(x)"
   ]
  },
  {
   "cell_type": "markdown",
   "metadata": {},
   "source": [
    "This style of programming is perfectly fine when the result of a program is determined by an unchanging set of rules. The static file approach however is NOT well-suited for all use cases. When performing data analysis using Python for example, the steps can't always be determined ahead of time. Datasets come in all different shapes and sizes, often require various unpredictable preprocessing steps (AKA <strong>*wrangling*</strong>) before they can be worked with.\n",
    "\n",
    "This is where Jupyter Notebooks comes in to the picture. As you can see, a Jupyter Notebook file is comprised of cells; each one building upon the last. It's almost as if the creators of Jupyter built-in a pause, fast-forward, and rewind button into your program. At anytime you can add cells to the end beginning or in-between. So in our Jupyter Notebook our old program could be written like this:"
   ]
  },
  {
   "cell_type": "code",
   "execution_count": null,
   "metadata": {},
   "outputs": [],
   "source": [
    "x = \"Hello, World!\" ## <--- Try changing the value in-between the quotes and then run the cells again"
   ]
  },
  {
   "cell_type": "code",
   "execution_count": null,
   "metadata": {},
   "outputs": [],
   "source": [
    "print(x)"
   ]
  },
  {
   "cell_type": "markdown",
   "metadata": {},
   "source": [
    "## Python you'll need to know for this workshop\n",
    "- *variables*\n",
    "- *objects & types*\n",
    "- *functions*\n",
    "- *import statements & dependencies*"
   ]
  },
  {
   "cell_type": "markdown",
   "metadata": {},
   "source": [
    "### Variables\n",
    "As mentioned earlier, a variable is simply a reference to some chunk of memory. Every variable has a name and using that name, we can interact with the aformentioned chunk of memory; we can store things, modify things, and access what we've stored and/or modified using variables. Below are all examples of variables:"
   ]
  },
  {
   "cell_type": "code",
   "execution_count": null,
   "metadata": {},
   "outputs": [],
   "source": [
    "a = \"my variable\"\n",
    "b = 12\n",
    "c = 15.29034\n",
    "d = [1, 'hello', 3.456]\n",
    "e = {\"hello\": 3}"
   ]
  },
  {
   "cell_type": "markdown",
   "metadata": {},
   "source": [
    "### Objects & Types\n",
    "In Python, everything is an <strong>*object*</strong>. It's not terribly important for now to fully understand what an object is, but suffice it to say, an object is the most basic unit of Python thing (lol!) and everything is an object of some <strong>*type*</strong>. Different types of objects have different characteristics. This is also something we need not fully understand for now. Just acknowledging that there are differences is perfectly sufficient for our purposes. Below are some examples of object types. In the below examples we make use of a <strong>*function*</strong> (more on this shortly) called `type`, which simply takes an object and returns the object's type. Have a look:"
   ]
  },
  {
   "cell_type": "code",
   "execution_count": null,
   "metadata": {},
   "outputs": [],
   "source": [
    "type(\"my name is Eitan\") # <--- anything w/ double quotes is a string."
   ]
  },
  {
   "cell_type": "code",
   "execution_count": null,
   "metadata": {},
   "outputs": [],
   "source": [
    "type('1,000,000') # <--- single quotes work too."
   ]
  },
  {
   "cell_type": "code",
   "execution_count": null,
   "metadata": {},
   "outputs": [],
   "source": [
    "type(143099) # <--- Numbers without quotes and decimals are called integers."
   ]
  },
  {
   "cell_type": "code",
   "execution_count": null,
   "metadata": {},
   "outputs": [],
   "source": [
    "type(c) # we defined the variable c a few cells back. It's type is called a float."
   ]
  },
  {
   "cell_type": "code",
   "execution_count": null,
   "metadata": {},
   "outputs": [],
   "source": [
    "type([1, 2, \"three\"]) # <--- square braces == list"
   ]
  },
  {
   "cell_type": "code",
   "execution_count": null,
   "metadata": {},
   "outputs": [],
   "source": [
    "type({\"one\": 1}) # <--- curly braces == dictionary"
   ]
  },
  {
   "cell_type": "markdown",
   "metadata": {},
   "source": [
    "### Functions\n",
    "In our last few examples we made use of a function called `type`, but what is a function? One of the fundamental rules of programming is D.R.Y or Don't Repeat Yourself. Functions allow us take a complex set of commands which we don't want write over and over again, assign them name (another form of a variable FYI), and reuse as needed. This makes our programs more readable and can also abstract away some of the unimportant details. Functions can optionally accept arguments. Many functions, such as `type`, are built-in Python's standard libraries, but we can define our own as well as make use of third-party defined functions.\n",
    "\n",
    "In the below example I've defined a function called `titleize`, which given a title will capitalize the first letter of each word. As you can see the logic I use to accomplish this is complex enough that I wouldn't want to have to re-write it over and over again. Instead I can reuse the function I've defined over and over again as needed. Give it a try:"
   ]
  },
  {
   "cell_type": "code",
   "execution_count": null,
   "metadata": {},
   "outputs": [],
   "source": [
    "def titleize(title):\n",
    "    return \" \".join([x[0].upper() + x[1:] for x in title.split()])"
   ]
  },
  {
   "cell_type": "code",
   "execution_count": null,
   "metadata": {},
   "outputs": [],
   "source": [
    "print(titleize(\"to kill a mockingbird\"))\n",
    "print(titleize(\"catcher in the rye\"))\n",
    "print(titleize(\"war and peace\"))"
   ]
  },
  {
   "cell_type": "markdown",
   "metadata": {},
   "source": [
    "### Import Statements & Dependencies\n",
    "Probably the coolest thing about Python is that it was designed such that it easily integrates with third-party software also referred to as <strong>*packages*</strong> and <strong>*libraries*</strong>. Indeed there are thousands of community-driven packages which programmers and data scientists rely on to do their work. We will be making use of a few such packages in our workshop today. \n",
    "\n",
    "Here are two examples of how one would add a package to their project:\n",
    "\n",
    "```\n",
    "import some_package1\n",
    "import some_package2 as sp2\n",
    "```\n",
    "\n",
    "In the first example we simply import (or add to our project) a package called `some_package1`. We now have full access to all the functionality bundled inside `some_package1`; it's essenstially as though we copied and pasted all of the code from `some_package1` into our project. \n",
    "\n",
    "The second example is much the same except in the case we <strong>*alias*</strong> our package using the `as` keyword to `sp2`. So here again we have full access to the package `some_package2`, but instead of using the full name we use `sp2` for ease of typing."
   ]
  },
  {
   "cell_type": "markdown",
   "metadata": {},
   "source": [
    "### Recap\n",
    "Now I'll show you a quick example of all the things we learned. We'll start by importing a package called `pandas`, which is used to interact with data and which we will be using extensively today. Then I'll show you how to make use of pandas' funtionality."
   ]
  },
  {
   "cell_type": "code",
   "execution_count": null,
   "metadata": {
    "scrolled": true
   },
   "outputs": [],
   "source": [
    "## importing a package called pandas\n",
    "import pandas as pd"
   ]
  },
  {
   "cell_type": "markdown",
   "metadata": {},
   "source": [
    "### A Note About CSV Files\n",
    "In the workshop today, the datasets will mainly come in the form of CSV files. CSV stands for Comma Separated Values. A CSV file is essentially a simplified spreadsheet except that the columns are delimited by commas and the rows by newlines."
   ]
  },
  {
   "cell_type": "code",
   "execution_count": null,
   "metadata": {},
   "outputs": [],
   "source": [
    "# This sort of what a CSV file looks like\n",
    "raw_data = \"\"\"\n",
    "first_name,last_name,age\n",
    "Albert,Johnson,31\n",
    "Emily,Smith,29\n",
    "James,Allen,37\n",
    "Judith,Bridges,33\n",
    "\"\"\""
   ]
  },
  {
   "cell_type": "code",
   "execution_count": null,
   "metadata": {},
   "outputs": [],
   "source": [
    "# This Function Is Unimportant\n",
    "def unimportant_function(raw_data):\n",
    "    from io import StringIO\n",
    "    return StringIO(raw_data)"
   ]
  },
  {
   "cell_type": "code",
   "execution_count": null,
   "metadata": {},
   "outputs": [],
   "source": [
    "### Process Our Mock Data\n",
    "data = unimportant_function(raw_data)\n",
    "\n",
    "### Create Python object for data interaction\n",
    "df = pd.read_csv(data)"
   ]
  },
  {
   "cell_type": "code",
   "execution_count": null,
   "metadata": {},
   "outputs": [],
   "source": [
    "type(df)"
   ]
  },
  {
   "cell_type": "code",
   "execution_count": null,
   "metadata": {},
   "outputs": [],
   "source": [
    "df.head()"
   ]
  },
  {
   "cell_type": "code",
   "execution_count": null,
   "metadata": {},
   "outputs": [],
   "source": [
    "df['age'].max()"
   ]
  },
  {
   "cell_type": "code",
   "execution_count": null,
   "metadata": {},
   "outputs": [],
   "source": []
  }
 ],
 "metadata": {
  "kernelspec": {
   "display_name": "Python 3",
   "language": "python",
   "name": "python3"
  },
  "language_info": {
   "codemirror_mode": {
    "name": "ipython",
    "version": 3
   },
   "file_extension": ".py",
   "mimetype": "text/x-python",
   "name": "python",
   "nbconvert_exporter": "python",
   "pygments_lexer": "ipython3",
   "version": "3.6.3"
  }
 },
 "nbformat": 4,
 "nbformat_minor": 2
}
