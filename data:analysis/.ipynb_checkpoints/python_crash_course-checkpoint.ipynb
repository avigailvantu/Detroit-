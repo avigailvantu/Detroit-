{
 "cells": [
  {
   "cell_type": "markdown",
   "metadata": {},
   "source": [
    "# Python & Jupyter Notebooks"
   ]
  },
  {
   "cell_type": "markdown",
   "metadata": {},
   "source": [
    "## Jupyter what?!"
   ]
  },
  {
   "cell_type": "markdown",
   "metadata": {},
   "source": [
    "Jupyter Notebooks is a popular interactive coding web application used by data scientists and programmers. If you're reading this, you're currently inside an Jupyter Notebook file. Notebook files consist of cells. You can navigate from cell to cell using the up and down arrow keys. Give it a try!"
   ]
  },
  {
   "cell_type": "markdown",
   "metadata": {},
   "source": [
    "## What do I mean when I say *interactive coding tool*?"
   ]
  },
  {
   "cell_type": "markdown",
   "metadata": {},
   "source": [
    "Most computer programs are static in nature. They generally consist of a set of predefined steps which are stored in a text file on a computer. As needed, the contents of the file are fed to the **interpreter** -- the program which turns code into computer instructions (more on this later) -- and are executed as a unit. Here's an example of what a typical Python file looks like:\n",
    "\n",
    "```\n",
    "# my_program.py\n",
    "\n",
    "x = \"Hello, World!\"\n",
    "print(x)\n",
    "```\n",
    "\n",
    "The above program consists of three steps. The first line `# my_program.py` is what's called a *comment*. In Python, any line prefaced with a `#` is a comment and is ignored. In other words, the first line is the name of the file. It is purely stylistic and has no effect on the behavior of the program itself.\n",
    "\n",
    "The next step, `x = \"Hello, World!\"`, is a bit more interesting. In this case, the program is instructing the computer to create a reference, `x`, to some chunk of memory and to store inside that chunk of memory the **string** \"Hello, World!\".\n",
    "\n",
    "Finally, the last step, `print(x)`, instructs the computer to invoke a **function** called `print` with an **argument** (or input) of `x`. `print` is another program built-in to python that accepts an input and prints it to the screen.\n",
    "\n",
    "The cell below is meant to demonstrate how this program would run. Give it a try!"
   ]
  },
  {
   "cell_type": "code",
   "execution_count": 3,
   "metadata": {},
   "outputs": [
    {
     "name": "stdout",
     "output_type": "stream",
     "text": [
      "Hello, World!\n"
     ]
    }
   ],
   "source": [
    "# run me by pressing shift + enter\n",
    "\n",
    "x = \"Hello, World!\"\n",
    "print(x)"
   ]
  },
  {
   "cell_type": "markdown",
   "metadata": {},
   "source": [
    "This style of programming is perfectly fine when the result of a program is determined by an unchanging set of rules. The static file approach however is NOT well-suited for all use cases. The steps to perform a data analysis for example are not always predefined. The data may be irregular and require cleaning. "
   ]
  },
  {
   "cell_type": "markdown",
   "metadata": {},
   "source": [
    "## Thinking Like An Interpreter"
   ]
  },
  {
   "cell_type": "markdown",
   "metadata": {},
   "source": [
    "Programming languages such as Python are useful because they allow us to harness the power of our computers using a simple set of commands. When executing the following code:\n",
    "\n",
    "```\n",
    "print(\"Hello, world!\")\n",
    "```\n",
    "\n",
    "The Python interpreter -- the program which *interprets* the code into something a computer can understand -- recognizes that a **function** *print* is being invoked with an **argument** (or an input) of \"Hello, World!\". The print function as you may have guessed is a program which takes an input and prints it to the screen."
   ]
  },
  {
   "cell_type": "code",
   "execution_count": null,
   "metadata": {},
   "outputs": [],
   "source": []
  }
 ],
 "metadata": {
  "kernelspec": {
   "display_name": "Python 3",
   "language": "python",
   "name": "python3"
  },
  "language_info": {
   "codemirror_mode": {
    "name": "ipython",
    "version": 3
   },
   "file_extension": ".py",
   "mimetype": "text/x-python",
   "name": "python",
   "nbconvert_exporter": "python",
   "pygments_lexer": "ipython3",
   "version": "3.6.3"
  }
 },
 "nbformat": 4,
 "nbformat_minor": 2
}
